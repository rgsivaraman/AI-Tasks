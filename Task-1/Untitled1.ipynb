{
 "cells": [
  {
   "cell_type": "code",
   "execution_count": 2,
   "id": "d0083f81-a27c-48e8-b933-193a6b12647d",
   "metadata": {},
   "outputs": [
    {
     "name": "stdout",
     "output_type": "stream",
     "text": [
      "['1Aaa3.5Maths2Bbb4.2Physics3Ccc7.62Chemistry4Ddd9.55Biology5Eee4.0Social6Fff7.6English7Ggg3.111Maths8Hhh9.99Physics9Iii1.23Civics']\n"
     ]
    }
   ],
   "source": [
    "with open(\"onelinefile.txt\",'r') as data_file:\n",
    "    for line in data_file:\n",
    "        data = line.split(',')\n",
    "        print(data)\n",
    "\n",
    "import pandas as pd\n",
    "\n",
    "dataframe1 = pd.read_csv(\"onelinefile.txt\")\n",
    "\n",
    "\n",
    "dataframe1.to_csv('onelinefile.csv',index = None)\n"
   ]
  },
  {
   "cell_type": "code",
   "execution_count": null,
   "id": "a94f063b-fe45-44a5-bc95-f5d261f29b26",
   "metadata": {},
   "outputs": [],
   "source": []
  },
  {
   "cell_type": "code",
   "execution_count": null,
   "id": "861e74f2-a928-4443-a145-c61c410b676f",
   "metadata": {},
   "outputs": [],
   "source": []
  }
 ],
 "metadata": {
  "kernelspec": {
   "display_name": "Python 3 (ipykernel)",
   "language": "python",
   "name": "python3"
  },
  "language_info": {
   "codemirror_mode": {
    "name": "ipython",
    "version": 3
   },
   "file_extension": ".py",
   "mimetype": "text/x-python",
   "name": "python",
   "nbconvert_exporter": "python",
   "pygments_lexer": "ipython3",
   "version": "3.9.7"
  }
 },
 "nbformat": 4,
 "nbformat_minor": 5
}
