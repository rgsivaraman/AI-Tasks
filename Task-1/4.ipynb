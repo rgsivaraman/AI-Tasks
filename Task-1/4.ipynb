{
 "cells": [
  {
   "cell_type": "code",
   "execution_count": 5,
   "id": "dbebb9aa-88e1-4fc4-9b64-19af57deddab",
   "metadata": {},
   "outputs": [
    {
     "name": "stdout",
     "output_type": "stream",
     "text": [
      "[('B005P0HHGK', 170, 0.1 ) ('B000JEHAHS', 133, 0.12)\n",
      " ('B0001PB9FY', 183, 0.19) ('B005DUM9UQ', 138, 0.24)\n",
      " ('B002GWHC0G', 165, 0.26) ('B0001PB9FE', 148, 0.29)\n",
      " ('B0093NIWVO', 127, 0.31) ('B000G6RPMY', 111, 0.38)\n",
      " ('B0017I8UME', 139, 0.43) ('B0019CW0HE', 178, 0.43)\n",
      " ('B0017129DC', 159, 0.45) ('B000E7L2R4', 148, 0.48)\n",
      " ('B003SO503C', 162, 0.6 ) ('B001GVISJM', 177, 0.61)\n",
      " ('B001EO5ZME', 156, 0.64) ('B001KUUNP6', 178, 0.74)\n",
      " ('B0064KO0BU', 157, 0.74) ('B0025WIAN0',  82, 0.77)\n",
      " ('B000GGKQSO', 185, 0.83) ('B000ITVLE2', 126, 0.84)\n",
      " ('B000LKZK7C', 194, 0.88) ('B00171APVA', 184, 1.  )\n",
      " ('B001EO5ZMO', 178, 1.04) ('B000NY8ODS', 162, 1.08)\n",
      " ('B000WFRMRW', 174, 1.13) ('B0064KU9HO', 159, 1.15)\n",
      " ('B004OYBN7C',  81, 1.29) ('B001L4ELRW', 108, 1.53)\n",
      " ('B003ZFRKGO', 191, 1.59) ('B0036VM05I', 174, 1.72)\n",
      " ('B006K2ZZ7K', 157, 1.76) ('B003VTN95K', 197, 1.84)\n",
      " ('B00144C10S', 182, 1.86) ('B002MV23XM', 148, 1.89)\n",
      " ('B0066DMI6Y', 148, 1.9 ) ('B001SATU8E', 166, 1.91)\n",
      " ('B000E7VI7S', 103, 1.99) ('B001GVISJW', 144, 2.05)\n",
      " ('B0009XLVGA', 195, 2.11) ('B001EO5TPM', 161, 2.11)\n",
      " ('B007TFONH0', 152, 2.15) ('B0040WAG7Q',  90, 2.2 )\n",
      " ('B0028C44Z0', 151, 2.22) ('B001FB69YY',  98, 2.24)\n",
      " ('B0048IC328',  88, 2.29) ('B007J32WX4', 104, 2.29)\n",
      " ('B0009XLVG0', 116, 2.36) ('B001REEG6C', 100, 2.44)\n",
      " ('B001GVISJC',  81, 2.47) ('B00029XIZI',  81, 2.59)\n",
      " ('B002X9JNYU', 171, 2.61) ('B001EO5ZMY', 114, 2.66)\n",
      " ('B000J0HIT2', 180, 2.7 ) ('B003F6UO7K', 141, 2.7 )\n",
      " ('B004X2KR36', 126, 2.74) ('B004K2IHUO', 175, 2.82)\n",
      " ('B007JFV6RK', 197, 2.89) ('B00283TPYE', 100, 2.94)\n",
      " ('B001EPQ0J0', 150, 3.09) ('B000SV90J8', 118, 3.22)\n",
      " ('B004N5KULM', 166, 3.23) ('B0026Y3YBK', 180, 3.26)\n",
      " ('B001E4KFG0', 140, 3.43) ('B00821UN4M', 153, 3.47)\n",
      " ('B003SE19UK', 160, 3.48) ('B00473RWXY', 150, 3.48)\n",
      " ('B0081XN2HQ', 129, 3.51) ('B000H13270',  80, 3.52)\n",
      " ('B0002567IW', 163, 3.53) ('B000UA0QIQ', 161, 3.64)\n",
      " ('B002HQAXUW', 165, 3.68) ('B0059WXJKM', 148, 3.73)\n",
      " ('B001EO5QW8', 165, 3.74) ('B0025VRCJY', 153, 3.91)\n",
      " ('B00813GRG4', 183, 3.91) ('B001D07IPG', 197, 3.93)\n",
      " ('B006SQBRMA', 188, 3.97) ('B0064KOUNI', 152, 3.98)\n",
      " ('B005CJVVJ8', 108, 4.05) ('B003OB0IB8', 133, 4.08)\n",
      " ('B003ZFXJDW', 110, 4.11) ('B007B9J6G2',  80, 4.18)\n",
      " ('B001EPPI84', 184, 4.21) ('B004V6AH34', 103, 4.24)\n",
      " ('B001HTL6CY', 160, 4.26) ('B007DJ0O9I',  94, 4.31)\n",
      " ('B005R8JE8O',  83, 4.34) ('B0037LW78C', 195, 4.55)\n",
      " ('B003TQQKFQ', 113, 4.55) ('B003EMU7EU', 114, 4.56)\n",
      " ('B001IUKD76',  89, 4.58) ('B000O9Y62A',  97, 4.59)\n",
      " ('B000LQOCH0', 160, 4.6 ) ('B001UJEN6C',  99, 4.63)\n",
      " ('B002SRYRE8', 189, 4.67) ('B00374XSVY', 120, 4.7 )\n",
      " ('B002TDK0VK', 196, 4.8 ) ('B0037ZFEW4', 117, 4.85)\n",
      " ('B003YDP5PA', 169, 4.98)]\n"
     ]
    }
   ],
   "source": [
    "import pandas as pd\n",
    "import numpy as np\n",
    "arr = pd.read_csv('Q4.csv').to_records(index=False)\n",
    "modarr = np.sort(arr, order='rating')\n",
    "print(modarr)"
   ]
  },
  {
   "cell_type": "code",
   "execution_count": null,
   "id": "ddccf5c8-9921-4a95-9115-efd0a974a504",
   "metadata": {},
   "outputs": [],
   "source": []
  }
 ],
 "metadata": {
  "kernelspec": {
   "display_name": "Python 3 (ipykernel)",
   "language": "python",
   "name": "python3"
  },
  "language_info": {
   "codemirror_mode": {
    "name": "ipython",
    "version": 3
   },
   "file_extension": ".py",
   "mimetype": "text/x-python",
   "name": "python",
   "nbconvert_exporter": "python",
   "pygments_lexer": "ipython3",
   "version": "3.9.7"
  }
 },
 "nbformat": 4,
 "nbformat_minor": 5
}
